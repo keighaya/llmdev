{
 "cells": [
  {
   "cell_type": "code",
   "execution_count": 2,
   "id": "c57a760e",
   "metadata": {},
   "outputs": [
    {
     "name": "stdout",
     "output_type": "stream",
     "text": [
      "Content saved in: 20250508_155052.txt\n"
     ]
    }
   ],
   "source": [
    "import urllib.request\n",
    "from datetime import datetime\n",
    "\n",
    "def save_url_content(url):\n",
    "    with urllib.request.urlopen(url) as file:\n",
    "        data = file.read().decode(\"utf-8\")\n",
    "    \n",
    "    file_name = f\"{datetime.now():%Y%m%d_%H%M%S}.txt\"\n",
    "    with open(file_name, \"w\", encoding=\"utf-8\") as file:\n",
    "        file.write(data[:500])\n",
    "\n",
    "    return file_name\n",
    "\n",
    "url = input(\"URLを入力してください: \")\n",
    "file_name = save_url_content(url)\n",
    "print(f\"Content saved in: {file_name}\")"
   ]
  }
 ],
 "metadata": {
  "kernelspec": {
   "display_name": ".venv",
   "language": "python",
   "name": "python3"
  },
  "language_info": {
   "codemirror_mode": {
    "name": "ipython",
    "version": 3
   },
   "file_extension": ".py",
   "mimetype": "text/x-python",
   "name": "python",
   "nbconvert_exporter": "python",
   "pygments_lexer": "ipython3",
   "version": "3.12.7"
  }
 },
 "nbformat": 4,
 "nbformat_minor": 5
}
