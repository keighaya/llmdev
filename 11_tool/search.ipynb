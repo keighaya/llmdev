{
 "cells": [
  {
   "cell_type": "code",
   "execution_count": 13,
   "id": "26001533",
   "metadata": {},
   "outputs": [],
   "source": [
    "# 必要なモジュールをインポート\n",
    "import os\n",
    "import json\n",
    "from dotenv import load_dotenv\n",
    "from openai import OpenAI\n",
    "from openai.types.chat import ChatCompletionToolParam\n",
    "from tavily import TavilyClient\n",
    "\n",
    "# 環境変数の取得\n",
    "load_dotenv(\"../.env\")\n",
    "\n",
    "# OpenAI APIクライアントを生成\n",
    "client = OpenAI(api_key=os.environ['API_KEY'])\n",
    "\n",
    "# tavily検索用APIキーの取得\n",
    "TAVILY_API_KEY = os.environ['TAVILY_API_KEY']\n",
    "\n",
    "# モデル名\n",
    "MODEL_NAME = \"gpt-4o-mini\""
   ]
  },
  {
   "cell_type": "code",
   "execution_count": 14,
   "id": "5a26527f",
   "metadata": {},
   "outputs": [],
   "source": [
    "# 検索結果を返す関数の作成\n",
    "def get_search_result(question):\n",
    "    client = TavilyClient(api_key=TAVILY_API_KEY)\n",
    "    response = client.search(question)\n",
    "    return json.dumps({\"result\": response[\"results\"]})"
   ]
  },
  {
   "cell_type": "code",
   "execution_count": 15,
   "id": "90b0182c",
   "metadata": {},
   "outputs": [
    {
     "data": {
      "text/plain": [
       "{'result': [{'title': '東京駅(東京都)周辺のイベント - ウォーカープラス',\n",
       "   'url': 'https://www.walkerplus.com/event_list/ar0313/sc309880d/',\n",
       "   'content': '東京駅(東京都)周辺のイベント｜ウォーカープラス 千代田区 中央区 ウォーカープラス 東京駅(東京都)周辺のイベント 東京駅(東京都)周辺のイベント 今日 明日 今週末 千代田区 中央区 アニメ「鬼滅の刃」柱展 ーそして無限城へー終了間近 2024年11月2日(土)～2025年3月2日(日) 江戸にひかり大丸有開催中 2025年1月9日(木)～3月7日(金) 二重橋前駅(東京都), 東京駅(東京都), 大手町駅(東京都), 有楽町駅(東京都), 日比谷駅(東京都) 生誕120年 宮脇綾子の芸術 見た、切った、貼った開催中 2025年1月25日(土)～3月16日(日) 東京駅(東京都), 二重橋前駅(東京都), 大手町駅(東京都), 日本橋駅(東京都), 京橋駅(東京都) 1日限りの光の祭典「アイスキャンドルフェスティバル」と山中湖ダイヤモンド富士と河口湖湖畔 大石公園終了間近 2025年2月23日(日) 二重橋前駅(東京都), 東京駅(東京都), 有楽町駅(東京都), 大手町駅(東京都), 京橋駅(東京都) 丸の内エリアプロジェクションマッピング 東京大浮世絵終了間近 2025年2月21日(金)～25日(火) 二重橋前駅(東京都), 東京駅(東京都), 有楽町駅(東京都), 大手町駅(東京都), 京橋駅(東京都) 二重橋前駅(東京都), 東京駅(東京都), 有楽町駅(東京都), 大手町駅(東京都), 京橋駅(東京都) 二重橋前駅(東京都), 東京駅(東京都), 有楽町駅(東京都), 大手町駅(東京都), 京橋駅(東京都) 大手町駅(東京都), 東京駅(東京都), 二重橋前駅(東京都), 神田駅(東京都), 三越前駅(東京都) Otemachi One Illumination終了間近 2024年11/8(金)～2025年2月下旬 大手町駅(東京都), 竹橋駅(東京都), 神田駅(東京都), 二重橋前駅(東京都), 東京駅(東京都) 京橋エドグラン クリスマスイルミネーション2024終了間近 2024年11月22日(金)～2025年2月28日(金) 京橋駅(東京都), 宝町駅(東京都), 銀座一丁目駅(東京都), 東京駅(東京都), 有楽町駅(東京都) 2月 3月 4月 5月 千代田区 中央区 からだにplus Walker 「食事」や「行動」を中心とした、健康維持に役立つ情報をたっぷりとお届け CHECK!関東の人気ランキングはこちら 東京 東京 東京 動き出す浮世絵展 TOKYO 新！いい人すぎるよ展＆すぎるよすぎるよ展(東京) {{/ is_event }} {{# is_spot }}  {{ name }} {{ pref_name }}{{ city_name }} ウォーカープラス @walkerplus_news ウォーカープラス漫画部 @walkerpluscomic 関西ウォーカー @KansaiWalkers 東海ウォーカー @TokaiWalkers キャラWalker @chara_walker_ MOVIE WALKER PRESS',\n",
       "   'score': 0.82117355,\n",
       "   'raw_content': None},\n",
       "  {'title': '東京駅周辺・丸の内でおすすめのイベント',\n",
       "   'url': 'https://www.enjoytokyo.jp/event/list/area1306/',\n",
       "   'content': '～ 2025/03/16(日) MOTAS.による新作個展「オリジナルレシピ / Original Recipe」が、Gallery & Bakery Tokyo ８分にて開催中。 2025/03/15(土) ～ 04/08(火) 2025/03/12(水) ～ 04/01(火) 2025/02/28(金) ～ 03/23(日) 2025/03/07(金) ～ 03/23(日) ※金曜日、土曜日、日曜日のみ 2025 in TOKYO MIDTOWN YAESU 2025/03/07(金) ～ 04/06(日) ※各イベントによって開催日が異なります。詳細は公式サイトをご確認ください。 2025/03/01(土) ～ 06/01(日) 休館日：月曜日（5月5日は開館）、5月7日 2025/03/01(土) ～ 06/01(日) 休館日：月曜日（5月5日は開館）、5月7日 2025/03/05(水) ～ 03/25(火) 2025/02/22(土) ～ 04/20(日) 進撃の巨人：2025/03/21(金)～03/30(日)\\r 2024/10/10(木) ～ 2025/03/30(日) 2025/03/19(水) ～ 04/06(日) 2025/03/19(水) ～ 03/25(火) 2025/08/20(水) ～ 09/07(日) 2025/03/21(金) ～ 03/30(日) 2025/04/09(水) ～ 04/13(日) 2025/06/21(土) ～ 06/22(日) ～ 2025/03/16(日) 【パスタコース】サラダバー・パスタ・いちごデザートビュッフェ【AWKitchen TOKYO 新丸ビル店】 2024/12/01(日) ～ 2025/05/31(土) 2024/11/01(金) ～ 2025/05/11(日) 2025/03/07(金) ～ 03/23(日) 開催日は期間中の金曜・土曜・日曜。開映日時は作品によって異なる。 2025/03/20(木・祝) ～ 03/30(日) 2025/03/20(木・祝) ～ 05/25(日) 2025/03/22(土) ～ 03/28(金) 2025/03/08(土) ～ 09/07(日) 2025/03/22(土) ～ 03/23(日) 2025/03/01(土) ～ 04/20(日) TOKYO TOWER CITY LIGHT FANTASIA - Spring Concerto 2025 - © Tokyo Metro Co., Ltd. & Let’s ENJOY TOKYO, Inc.',\n",
       "   'score': 0.7946564,\n",
       "   'raw_content': None},\n",
       "  {'title': 'イベント&ニュース - 東京駅一番街',\n",
       "   'url': 'https://www.tokyoeki-1bangai.co.jp/event/',\n",
       "   'content': 'EVENT クロネコパティスリー 2025.03.19.wed 〜 2025.03.25.tue 東京ギフトパレット内「Weekly Palette」 EVENT ブルブルくんステーション ブルーベリーエクスプレス 2025.03.14.fri 〜 2025.03.27.thu 東京駅一番街 地下1階 東京キャラクターストリート Ｇ階段下ワゴン EVENT Macross White Day POP UP SHOPPOP UP SHOP in 東京キャラクターストリート by eeo 2025.03.14.fri 〜 2025.03.27.thu 東京駅一番街 地下1階 東京キャラクターストリート F階段下ワゴン EVENT 豪華賞品が当たる！東京駅一番街20周年記念 デジタルスタンプラリー開催中！ 2025.03.07.fri 〜 2025.05.08.thu 東京駅一番街 全店（但し、宝くじ各店、ガシャポン店舗は除く） EVENT ”Charaful Liner in KIDDY LAND” ～ ENJOY OUR TRIP～ 2025.03.21.fri 〜 2025.04.03.thu 東京駅一番街 地下1階 東京キャラクターストリート Ｋ階段下ワゴン EVENT 赤福／五十鈴茶屋 2025.03.26.wed 〜 2025.04.08.tue 東京ギフトパレット内「Weekly Palette」 EVENT 呪術廻戦 POP UP STORE 2025.03.07.fri 〜 2025.03.20.thu 東京駅一番街 地下一階 いちばんプラザ EVENT ハンギョドン 40thAnniversary Fair 2025.03.07.fri 〜 2025.03.20.thu 東京駅一番街 地下1階 東京キャラクターストリート Ｋ階段下ワゴン EVENT 東京おかしランドイベントスペースに「PANDARS SHOP」を期間限定でオープン！ 2025.02.13.thu 〜 2025.04.01.tue 東京おかしランド イベントスペース EVENT ル ペパン 2025.03.05.wed 〜 2025.03.18.tue 東京ギフトパレット内「Weekly Palette」 EVENT リアル脱出ゲーム『謎だらけの東京駅からの脱出』Supported by 東京ばな奈 2024.11.06.wed 〜 2025.05.06.tue 東京おかしランド公式 Instagram @tokyo_okashiland 東京キャラクターストリート公式 Instagram @tokyo_characterstreet',\n",
       "   'score': 0.74318707,\n",
       "   'raw_content': None},\n",
       "  {'title': '東京駅丸の内駅舎周辺のイベントランキング - じゃらんnet',\n",
       "   'url': 'https://www.jalan.net/kankou/spt_guide000000204974/event/',\n",
       "   'content': '東京駅丸の内駅舎周辺で開催中のイベントランキング。東京駅丸の内駅舎周辺では「大江戸骨董市（期間：毎月第1・3日曜）」や「神田祭（期間：2025年5月8日～15日）」などが開催中。東京駅丸の内駅舎周辺のホテル／観光スポット／イベント／ご当地グルメ情報も充実。',\n",
       "   'score': 0.67885995,\n",
       "   'raw_content': None},\n",
       "  {'title': 'イベント一覧|【公式】東京都千代田区の観光情報公式サイト / Visit Chiyoda',\n",
       "   'url': 'https://visit-chiyoda.tokyo/app/event/search',\n",
       "   'content': \"閲覧履歴 Language EVENT INFORMATIONイベント情報 Featured events注目イベント カレンダーから探す 期間とカテゴリを選択して探す カテゴリから探す 期間を選択する | 選択2024年3月2024年4月2024年5月2024年6月2024年7月2024年8月2024年9月2024年10月2024年11月2024年12月2025年1月2025年2月～選択2024年3月2024年4月2024年5月2024年6月2024年7月2024年8月2024年9月2024年10月2024年11月2024年12月2025年1月2025年2月 カテゴリを選択する | エリア飯田橋・九段・市ヶ谷・北の丸神保町・お茶の水秋葉原・神田麹町・半蔵門・永田町皇居・東京駅・日比谷 | 観光スポット定番スポット江戸城神社・仏閣公園建築発祥の地史跡・碑橋坂さくらの名所紅葉の名所 | 蔦重 | グルメ | ショッピング商業施設 | 宿泊 | ヒストリー＆カルチャー人物出来事伝統文化 | さくらまつり | シアター＆ミュージアム | イベントさくらまつり秋まつり美術館・博物館神社・仏閣イルミネーショングルメ日比谷公園 エリア 1-24件/677件表示 イベント 飯田橋・九段・市ヶ谷・北の丸 イベント 皇居・東京駅・日比谷 イベント 皇居・東京駅・日比谷 イベント 神保町・お茶の水 イベント 麹町・半蔵門・永田町 イベント 皇居・東京駅・日比谷 イベント 皇居・東京駅・日比谷 イベント 秋葉原・神田 イベント 飯田橋・九段・市ヶ谷・北の丸 イベント 飯田橋・九段・市ヶ谷・北の丸 イベント 秋葉原・神田 イベント 飯田橋・九段・市ヶ谷・北の丸 イベント 飯田橋・九段・市ヶ谷・北の丸 イベント 皇居・東京駅・日比谷 イベント 飯田橋・九段・市ヶ谷・北の丸 イベント 秋葉原・神田 イベント 飯田橋・九段・市ヶ谷・北の丸 イベント 飯田橋・九段・市ヶ谷・北の丸 イベント 神保町・お茶の水 イベント 飯田橋・九段・市ヶ谷・北の丸 イベント 麹町・半蔵門・永田町 イベント 飯田橋・九段・市ヶ谷・北の丸 イベント 飯田橋・九段・市ヶ谷・北の丸 イベント 秋葉原・神田 Copyright 2019 Chiyoda City Tourism Association. All rights reserved. ちよだを、見つけにいこう カレー 皇居 公園 メイド イルミネーション 人気 行列 おいしい 渋沢栄一 癒し ショッピング 閲覧履歴 AREAちよだについて CATEGORYスポットをみつけよう LET'S GO OUTでかけよう SNS INFORMATION WHAT’S YOUR PURPOSE?\",\n",
       "   'score': 0.5370662,\n",
       "   'raw_content': None}]}"
      ]
     },
     "execution_count": 15,
     "metadata": {},
     "output_type": "execute_result"
    }
   ],
   "source": [
    "# テスト用コード\n",
    "ret = get_search_result(\"東京駅のイベントを教えて\")\n",
    "json.loads(ret)"
   ]
  },
  {
   "cell_type": "code",
   "execution_count": 16,
   "id": "d00bc598",
   "metadata": {},
   "outputs": [],
   "source": [
    "# ツール定義\n",
    "def define_tools():\n",
    "    return [\n",
    "        ChatCompletionToolParam({\n",
    "            \"type\": \"function\",\n",
    "            \"function\": {\n",
    "                \"name\": \"get_search_result\",\n",
    "                \"description\": \"指定した質問文の検索結果を取得する\",\n",
    "                \"parameters\": {\n",
    "                    \"type\": \"object\",\n",
    "                    \"properties\": {\n",
    "                        \"question\": {\"type\": \"string\", \"description\": \"質問文\"},\n",
    "                    },\n",
    "                    \"required\": [\"question\"],\n",
    "                },\n",
    "            },\n",
    "        })\n",
    "    ]"
   ]
  },
  {
   "cell_type": "code",
   "execution_count": 17,
   "id": "eed5768a",
   "metadata": {},
   "outputs": [],
   "source": [
    "# 言語モデルへの質問を行う関数\n",
    "def ask_question(messages, tools):\n",
    "    response = client.chat.completions.create(\n",
    "        model=MODEL_NAME,\n",
    "        messages=messages,\n",
    "        tools=tools,\n",
    "        tool_choice=\"auto\",\n",
    "    )\n",
    "    return response"
   ]
  },
  {
   "cell_type": "code",
   "execution_count": 18,
   "id": "075d60a9",
   "metadata": {},
   "outputs": [],
   "source": [
    "# ツール呼び出しが必要な場合の処理を行う関数\n",
    "def handle_tool_call(response, messages):\n",
    "    # 関数の実行と結果取得\n",
    "    tool = response.choices[0].message.tool_calls[0]\n",
    "    function_name = tool.function.name\n",
    "    arguments = json.loads(tool.function.arguments)\n",
    "    function_response = globals()[function_name](**arguments)\n",
    "\n",
    "    messages2 = messages.copy()\n",
    "    messages2.append(response.choices[0].message)\n",
    "    messages2.append(\n",
    "        {\n",
    "            \"tool_call_id\": tool.id,\n",
    "            \"role\": \"tool\",\n",
    "            \"content\": function_response,\n",
    "        }\n",
    "    )\n",
    "\n",
    "    # 関数の実行結果をmessagesに加えて再度言語モデルを呼出\n",
    "    response_after_tool_call = client.chat.completions.create(\n",
    "        model=MODEL_NAME,\n",
    "        messages=messages2,\n",
    "    )\n",
    "    return response_after_tool_call"
   ]
  },
  {
   "cell_type": "code",
   "execution_count": 19,
   "id": "dc8d2ba2",
   "metadata": {},
   "outputs": [],
   "source": [
    "# ユーザーからの質問を処理する関数\n",
    "def process_response(messages, tools):\n",
    "    response = ask_question(messages, tools)\n",
    "\n",
    "    if response.choices[0].finish_reason == 'tool_calls':\n",
    "        # ツール呼出の場合\n",
    "        final_response = handle_tool_call(response, messages)\n",
    "        return final_response.choices[0].message.content.strip()\n",
    "    else:\n",
    "        # 言語モデルが直接回答する場合\n",
    "        return response.choices[0].message.content.strip()"
   ]
  },
  {
   "cell_type": "code",
   "execution_count": 8,
   "id": "5551b3df",
   "metadata": {},
   "outputs": [
    {
     "name": "stdout",
     "output_type": "stream",
     "text": [
      "東京都と沖縄県の面積を比較すると、沖縄県の方が広いです。具体的な面積は次の通りです：\n",
      "\n",
      "- **東京都**: 約2,188.67平方キロメートル\n",
      "- **沖縄県**: 約2,276.49平方キロメートル\n",
      "\n",
      "したがって、面積では沖縄県が東京都よりも広いことになります。\n"
     ]
    }
   ],
   "source": [
    "tools = define_tools()\n",
    "\n",
    "# 言語モデルが直接回答できる質問\n",
    "question = \"東京都と沖縄県はどちらが広いですか？\"\n",
    "response_message = process_response(question, tools)\n",
    "print(response_message)"
   ]
  },
  {
   "cell_type": "code",
   "execution_count": 9,
   "id": "e6239e19",
   "metadata": {},
   "outputs": [
    {
     "name": "stdout",
     "output_type": "stream",
     "text": [
      "最近の東京駅周辺でのイベント情報は以下の通りです：\n",
      "\n",
      "1. **[東京駅周辺のイベント - ウォーカープラス](https://www.walkerplus.com/event_list/ar0313/sc309880d/)**\n",
      "   - 各種アート展示、期間限定のスペシャルイベントが開催中。詳細な日程や内容はリンク先で確認できます。\n",
      "\n",
      "2. **[東京駅周辺イベント情報 - Enjoy Tokyo](https://www.enjoytokyo.jp/event/list/area1306/)**\n",
      "   - 渋谷で行われるアート展「オリジナルレシピ」が開催予定で、東京駅近くのギャラリーでアート関連のイベントも充実しています。\n",
      "\n",
      "3. **[東京駅周辺のイベント - じゃらんニュートップ](https://www.jalan.net/kankou/spt_guide000000204974/event/)**\n",
      "   - 定期的に開催されるイベントとして、大森山王神社の催し物や、特設展示が行われている。\n",
      "\n",
      "4. **[東京駅イベント情報 - 東京駅一番街](https://www.tokyoeki-1bangai.co.jp/event/)**\n",
      "   - TOKYO駅の一番街では、様々なポップアップショップや特別展示が予定されており、訪問者の皆様に多様な体験を提供しています。\n",
      "\n",
      "5. **[東京のイベント情報 - 10 Times](https://10times.com/ja/tokyo-jp)**\n",
      "   - 様々なIT関連のイベントが今後東京で予定されています。運営や制作、マーケティングに関する最新情報を得ることができます。\n",
      "\n",
      "これらのイベント情報は日々更新されるため、詳細や最新情報はそれぞれのリンクから確認されることをお勧めします。\n"
     ]
    }
   ],
   "source": [
    "tools = define_tools()\n",
    "\n",
    "# ツール呼出が必要な質問\n",
    "question = \"東京駅のイベントについて、最近1ヶ月以内の検索結果を教えてください\"\n",
    "response_message = process_response(question, tools)\n",
    "print(response_message)"
   ]
  },
  {
   "cell_type": "code",
   "execution_count": 20,
   "id": "6b2641d4",
   "metadata": {},
   "outputs": [
    {
     "data": {
      "text/plain": [
       "'質問:こんにちは！'"
      ]
     },
     "metadata": {},
     "output_type": "display_data"
    },
    {
     "name": "stdout",
     "output_type": "stream",
     "text": [
      "こんにちはだべ！元気にしてるかい？\n"
     ]
    },
    {
     "data": {
      "text/plain": [
       "'質問:東北6県は？'"
      ]
     },
     "metadata": {},
     "output_type": "display_data"
    },
    {
     "name": "stdout",
     "output_type": "stream",
     "text": [
      "東北6県は、青森県、岩手県、宮城県、秋田県、山形県、福島県だべ！どごか行ったことあるかい？\n"
     ]
    },
    {
     "data": {
      "text/plain": [
       "'質問:宮城県のお土産について検索した結果を教えて'"
      ]
     },
     "metadata": {},
     "output_type": "display_data"
    },
    {
     "name": "stdout",
     "output_type": "stream",
     "text": [
      "宮城県のお土産は、いろいろあるんだべ！いくつか紹介するね！\n",
      "\n",
      "1. **牛たん** - 宮城名物の牛たんは、特に仙台のものが有名だよ。焼き方や味付けにも工夫がされてて、とっても美味しいべ。\n",
      "\n",
      "2. **ずんだ餅** - ずんだは枝豆をすり潰して作ったペーストで、これを使ったお餅が人気だっちゃ。甘さと豆の風味が絶妙だど！\n",
      "\n",
      "3. **笹かまぼこ** - 宮城県の海の幸を使った、しっかりした味わいのかまぼこだべ。お土産にもぴったりだよ。\n",
      "\n",
      "4. **萩の月** - 洋菓子だけど、宮城を代表するお土産として知られてる！カスタードのクリームがたっぷり入った、ふわふわのスポンジケーキだよ。\n",
      "\n",
      "5. **仙台味噌** - 地元の味噌を使用した調味料も人気さ。料理に使うと、深い味わいになるんだべ。\n",
      "\n",
      "お土産選び、楽しんでおくれよ〜！他にもたくさんあるから、ぜひ探してみてね〜！\n",
      "\n",
      "---ご利用ありがとうございました！---\n"
     ]
    }
   ],
   "source": [
    "# チャットボットへの組み込み\n",
    "tools = define_tools()\n",
    "\n",
    "messages=[]\n",
    "\n",
    "system_prompt = \"あなたは東北弁で話すキャラクターです。語尾だけ東北弁にしてください。\"\n",
    "messages.append({\"role\": \"system\", \"content\": system_prompt})\n",
    "\n",
    "\n",
    "while(True):\n",
    "    # ユーザーからの質問を受付\n",
    "    question = input(\"メッセージを入力:\")\n",
    "    # 質問が入力されなければ終了\n",
    "    if question.strip()==\"\":\n",
    "        break\n",
    "    display(f\"質問:{question}\")\n",
    "\n",
    "    # メッセージにユーザーからの質問を追加\n",
    "    messages.append({\"role\": \"user\", \"content\": question.strip()})\n",
    "    # やりとりが8を超えたら古いメッセージから削除\n",
    "    # ただし、システムプロンプトは削除しない\n",
    "    if len(messages) > 8 + 1:\n",
    "        del_message = messages.pop(0 + 1)\n",
    "\n",
    "    # 言語モデルに質問\n",
    "    response_message = process_response(messages, tools)\n",
    "\n",
    "    # メッセージに言語モデルからの回答を追加\n",
    "    print(response_message, flush=True)\n",
    "    messages.append({\"role\": \"assistant\", \"content\": response_message})\n",
    "\n",
    "print(\"\\n---ご利用ありがとうございました！---\")"
   ]
  }
 ],
 "metadata": {
  "kernelspec": {
   "display_name": ".venv",
   "language": "python",
   "name": "python3"
  },
  "language_info": {
   "codemirror_mode": {
    "name": "ipython",
    "version": 3
   },
   "file_extension": ".py",
   "mimetype": "text/x-python",
   "name": "python",
   "nbconvert_exporter": "python",
   "pygments_lexer": "ipython3",
   "version": "3.12.7"
  }
 },
 "nbformat": 4,
 "nbformat_minor": 5
}
