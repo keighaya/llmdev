{
 "cells": [
  {
   "cell_type": "code",
   "execution_count": 1,
   "id": "26001533",
   "metadata": {},
   "outputs": [],
   "source": [
    "# 必要なモジュールをインポート\n",
    "import os\n",
    "import json\n",
    "from dotenv import load_dotenv\n",
    "from openai import OpenAI\n",
    "from openai.types.chat import ChatCompletionToolParam\n",
    "from tavily import TavilyClient\n",
    "\n",
    "# 環境変数の取得\n",
    "load_dotenv(\"../.env\")\n",
    "\n",
    "# OpenAI APIクライアントを生成\n",
    "client = OpenAI(api_key=os.environ['API_KEY'])\n",
    "\n",
    "# tavily検索用APIキーの取得\n",
    "TAVILY_API_KEY = os.environ['TAVILY_API_KEY']\n",
    "\n",
    "# モデル名\n",
    "MODEL_NAME = \"gpt-4o-mini\""
   ]
  },
  {
   "cell_type": "code",
   "execution_count": 2,
   "id": "5a26527f",
   "metadata": {},
   "outputs": [],
   "source": [
    "# 検索結果を返す関数の作成\n",
    "def get_search_result(question):\n",
    "    client = TavilyClient(api_key=TAVILY_API_KEY)\n",
    "    response = client.search(question)\n",
    "    return json.dumps({\"result\": response[\"results\"]})"
   ]
  },
  {
   "cell_type": "code",
   "execution_count": 3,
   "id": "90b0182c",
   "metadata": {},
   "outputs": [
    {
     "data": {
      "text/plain": [
       "{'result': [{'title': '東京駅(東京都)周辺のイベント - ウォーカープラス',\n",
       "   'url': 'https://www.walkerplus.com/event_list/ar0313/sc309880d/',\n",
       "   'content': '東京駅(東京都)周辺のイベント｜ウォーカープラス 千代田区 中央区 ウォーカープラス 東京駅(東京都)周辺のイベント 東京駅(東京都)周辺のイベント 今日 明日 今週末 千代田区 中央区 アニメ「鬼滅の刃」柱展 ーそして無限城へー終了間近 2024年11月2日(土)～2025年3月2日(日) 江戸にひかり大丸有開催中 2025年1月9日(木)～3月7日(金) 二重橋前駅(東京都), 東京駅(東京都), 大手町駅(東京都), 有楽町駅(東京都), 日比谷駅(東京都) 生誕120年 宮脇綾子の芸術 見た、切った、貼った開催中 2025年1月25日(土)～3月16日(日) 東京駅(東京都), 二重橋前駅(東京都), 大手町駅(東京都), 日本橋駅(東京都), 京橋駅(東京都) 1日限りの光の祭典「アイスキャンドルフェスティバル」と山中湖ダイヤモンド富士と河口湖湖畔 大石公園終了間近 2025年2月23日(日) 二重橋前駅(東京都), 東京駅(東京都), 有楽町駅(東京都), 大手町駅(東京都), 京橋駅(東京都) 丸の内エリアプロジェクションマッピング 東京大浮世絵終了間近 2025年2月21日(金)～25日(火) 二重橋前駅(東京都), 東京駅(東京都), 有楽町駅(東京都), 大手町駅(東京都), 京橋駅(東京都) 二重橋前駅(東京都), 東京駅(東京都), 有楽町駅(東京都), 大手町駅(東京都), 京橋駅(東京都) 二重橋前駅(東京都), 東京駅(東京都), 有楽町駅(東京都), 大手町駅(東京都), 京橋駅(東京都) 大手町駅(東京都), 東京駅(東京都), 二重橋前駅(東京都), 神田駅(東京都), 三越前駅(東京都) Otemachi One Illumination終了間近 2024年11/8(金)～2025年2月下旬 大手町駅(東京都), 竹橋駅(東京都), 神田駅(東京都), 二重橋前駅(東京都), 東京駅(東京都) 京橋エドグラン クリスマスイルミネーション2024終了間近 2024年11月22日(金)～2025年2月28日(金) 京橋駅(東京都), 宝町駅(東京都), 銀座一丁目駅(東京都), 東京駅(東京都), 有楽町駅(東京都) 2月 3月 4月 5月 千代田区 中央区 からだにplus Walker 「食事」や「行動」を中心とした、健康維持に役立つ情報をたっぷりとお届け CHECK!関東の人気ランキングはこちら 東京 東京 東京 動き出す浮世絵展 TOKYO 新！いい人すぎるよ展＆すぎるよすぎるよ展(東京) {{/ is_event }} {{# is_spot }}  {{ name }} {{ pref_name }}{{ city_name }} ウォーカープラス @walkerplus_news ウォーカープラス漫画部 @walkerpluscomic 関西ウォーカー @KansaiWalkers 東海ウォーカー @TokaiWalkers キャラWalker @chara_walker_ MOVIE WALKER PRESS',\n",
       "   'score': 0.8215175,\n",
       "   'raw_content': None},\n",
       "  {'title': '東京駅周辺・丸の内でおすすめのイベント',\n",
       "   'url': 'https://www.enjoytokyo.jp/event/list/area1306/',\n",
       "   'content': '～ 2025/03/16(日) MOTAS.による新作個展「オリジナルレシピ / Original Recipe」が、Gallery & Bakery Tokyo ８分にて開催中。 2025/03/15(土) ～ 04/08(火) 2025/03/12(水) ～ 04/01(火) 2025/02/28(金) ～ 03/23(日) 2025/03/07(金) ～ 03/23(日) ※金曜日、土曜日、日曜日のみ 2025 in TOKYO MIDTOWN YAESU 2025/03/07(金) ～ 04/06(日) ※各イベントによって開催日が異なります。詳細は公式サイトをご確認ください。 2025/03/01(土) ～ 06/01(日) 休館日：月曜日（5月5日は開館）、5月7日 2025/03/01(土) ～ 06/01(日) 休館日：月曜日（5月5日は開館）、5月7日 2025/03/05(水) ～ 03/25(火) 2025/02/22(土) ～ 04/20(日) 進撃の巨人：2025/03/21(金)～03/30(日)\\r 2024/10/10(木) ～ 2025/03/30(日) 2025/03/19(水) ～ 04/06(日) 2025/03/19(水) ～ 03/25(火) 2025/08/20(水) ～ 09/07(日) 2025/03/21(金) ～ 03/30(日) 2025/04/09(水) ～ 04/13(日) 2025/06/21(土) ～ 06/22(日) ～ 2025/03/16(日) 【パスタコース】サラダバー・パスタ・いちごデザートビュッフェ【AWKitchen TOKYO 新丸ビル店】 2024/12/01(日) ～ 2025/05/31(土) 2024/11/01(金) ～ 2025/05/11(日) 2025/03/07(金) ～ 03/23(日) 開催日は期間中の金曜・土曜・日曜。開映日時は作品によって異なる。 2025/03/20(木・祝) ～ 03/30(日) 2025/03/20(木・祝) ～ 05/25(日) 2025/03/22(土) ～ 03/28(金) 2025/03/08(土) ～ 09/07(日) 2025/03/22(土) ～ 03/23(日) 2025/03/01(土) ～ 04/20(日) TOKYO TOWER CITY LIGHT FANTASIA - Spring Concerto 2025 - © Tokyo Metro Co., Ltd. & Let’s ENJOY TOKYO, Inc.',\n",
       "   'score': 0.7946564,\n",
       "   'raw_content': None},\n",
       "  {'title': '東京駅周辺のイベント - 駅探',\n",
       "   'url': 'https://ekitan.com/event/station-2590',\n",
       "   'content': '東京駅周辺のイベント - 駅探 駅探 | ekitan 乗換案内 乗換案内 飛行機時刻表 飛行機時刻表(国内線) 飛行機時刻表(国際線) 駅探 東京駅周辺のイベント 閉じる 2025 in TOKYO MIDTOWN YAESU 東京の玄関口で新たな春の旅立ちを祝う 期間2025年3月7日(金)～4月6日(日) 会場東京ミッドタウン八重洲 * 東京都 中央区 * 東京駅／京橋駅(東京)／宝町駅 1. #### AFRICA POP 2025 アフリカンプリントで彩りのある暮らしを 期間2025年3月5日(水)～3月11日(火) このイベントは終了しました 会場丸善丸の内本店4階 特選文具売り場イベントスペース * 東京都 千代田区 * 東京駅／大手町駅(東京)／二重橋前駅 1. #### つるが（敦賀）とわかさ（若狭）とマルノウチ（丸の内）つながる福井グルメフェア 福井・敦賀の特産品の魅力を堪能しよう！ 期間2025年1月13日(月)～2月2日(日) このイベントは終了しました 会場新丸ビル7階 丸の内ハウス * 東京都 千代田区 * 東京駅／二重橋前駅／大手町駅(東京)駅 1. #### ＜大人の社会科見学＞「読売新聞東京本社会社見学」＆ランチ交流会 大人気イベント企画第9弾！ 期間2025年2月12日(水) このイベントは終了しました 会場読売新聞東京本社 * 東京都 千代田区 * 大手町駅(東京)／竹橋駅／東京駅 1. 京橋(東京) 大手町(東京) 日本橋(東京) もっとみる 閉じる 東京駅発の人気の区間(乗換案内) もっとみる 閉じる 東京メトロ日比谷線 八丁堀駅 徒歩4分 23.8万円(管理費等：15,000円) 1LDK / 40.09m2 / 11階 / 築6年 東京メトロ日比谷線 八丁堀駅 徒歩3分 24.2万円(管理費等：15,000円) 1LDK / 40.06m2 / 7階 / 築1年 JR山手線 東京駅 徒歩10分 15.4万円(管理費等：9,000円) 1K / 30.4m2 / 8階 東京メトロ銀座線 日本橋駅 徒歩4分 9,980万円 1LDK / 41.04m2 / 5階 / 築21年 AGA Copyright©2025 駅探.',\n",
       "   'score': 0.7944651,\n",
       "   'raw_content': None},\n",
       "  {'title': '東京駅丸の内駅舎周辺のイベントランキング - じゃらんnet',\n",
       "   'url': 'https://www.jalan.net/kankou/spt_guide000000204974/event/',\n",
       "   'content': '東京駅丸の内駅舎周辺で開催中のイベントランキング。東京駅丸の内駅舎周辺では「大江戸骨董市（期間：毎月第1・3日曜）」や「神田祭（期間：2025年5月8日～15日）」などが開催中。東京駅丸の内駅舎周辺のホテル／観光スポット／イベント／ご当地グルメ情報も充実。',\n",
       "   'score': 0.67885995,\n",
       "   'raw_content': None},\n",
       "  {'title': '東京駅周辺のイベント情報まとめ - 猫の道案内',\n",
       "   'url': 'https://nekonomitiannai.com/event-tokyo-matome/',\n",
       "   'content': '東京駅周辺で開催されるイベント情報をお届けします! 東京駅周辺のイベント情報まとめ ... 東京駅周辺のイベント情報まとめ ... 当サイトについて（運営者情報）',\n",
       "   'score': 0.635879,\n",
       "   'raw_content': None}]}"
      ]
     },
     "execution_count": 3,
     "metadata": {},
     "output_type": "execute_result"
    }
   ],
   "source": [
    "# テスト用コード\n",
    "ret = get_search_result(\"東京駅のイベントを教えて\")\n",
    "json.loads(ret)"
   ]
  },
  {
   "cell_type": "code",
   "execution_count": 4,
   "id": "d00bc598",
   "metadata": {},
   "outputs": [],
   "source": [
    "# ツール定義\n",
    "def define_tools():\n",
    "    return [\n",
    "        ChatCompletionToolParam({\n",
    "            \"type\": \"function\",\n",
    "            \"function\": {\n",
    "                \"name\": \"get_search_result\",\n",
    "                \"description\": \"指定した質問文の検索結果を取得する\",\n",
    "                \"parameters\": {\n",
    "                    \"type\": \"object\",\n",
    "                    \"properties\": {\n",
    "                        \"question\": {\"type\": \"string\", \"description\": \"質問文\"},\n",
    "                    },\n",
    "                    \"required\": [\"question\"],\n",
    "                },\n",
    "            },\n",
    "        })\n",
    "    ]"
   ]
  },
  {
   "cell_type": "code",
   "execution_count": 5,
   "id": "eed5768a",
   "metadata": {},
   "outputs": [],
   "source": [
    "# 言語モデルへの質問を行う関数\n",
    "def ask_question(question, tools):\n",
    "    response = client.chat.completions.create(\n",
    "        model=MODEL_NAME,\n",
    "        messages=[{\"role\": \"user\", \"content\": question}],\n",
    "        tools=tools,\n",
    "        tool_choice=\"auto\",\n",
    "    )\n",
    "    return response"
   ]
  },
  {
   "cell_type": "code",
   "execution_count": 6,
   "id": "075d60a9",
   "metadata": {},
   "outputs": [],
   "source": [
    "# ツール呼び出しが必要な場合の処理を行う関数\n",
    "def handle_tool_call(response, question):\n",
    "    # 関数の実行と結果取得\n",
    "    tool = response.choices[0].message.tool_calls[0]\n",
    "    function_name = tool.function.name\n",
    "    arguments = json.loads(tool.function.arguments)\n",
    "    function_response = globals()[function_name](**arguments)\n",
    "\n",
    "    # 関数の実行結果をmessagesに加えて再度言語モデルを呼出\n",
    "    response_after_tool_call = client.chat.completions.create(\n",
    "        model=MODEL_NAME,\n",
    "        messages=[\n",
    "            {\"role\": \"user\", \"content\": question},\n",
    "            response.choices[0].message,\n",
    "            {\n",
    "                \"tool_call_id\": tool.id,\n",
    "                \"role\": \"tool\",\n",
    "                \"content\": function_response,\n",
    "            },\n",
    "        ],\n",
    "    )\n",
    "    return response_after_tool_call"
   ]
  },
  {
   "cell_type": "code",
   "execution_count": 7,
   "id": "dc8d2ba2",
   "metadata": {},
   "outputs": [],
   "source": [
    "# ユーザーからの質問を処理する関数\n",
    "def process_response(question, tools):\n",
    "    response = ask_question(question, tools)\n",
    "\n",
    "    if response.choices[0].finish_reason == 'tool_calls':\n",
    "        # ツール呼出の場合\n",
    "        final_response = handle_tool_call(response, question)\n",
    "        return final_response.choices[0].message.content.strip()\n",
    "    else:\n",
    "        # 言語モデルが直接回答する場合\n",
    "        return response.choices[0].message.content.strip()"
   ]
  },
  {
   "cell_type": "code",
   "execution_count": 8,
   "id": "5551b3df",
   "metadata": {},
   "outputs": [
    {
     "name": "stdout",
     "output_type": "stream",
     "text": [
      "東京都と沖縄県の面積を比較すると、沖縄県の方が広いです。具体的な面積は次の通りです：\n",
      "\n",
      "- **東京都**: 約2,188.67平方キロメートル\n",
      "- **沖縄県**: 約2,276.49平方キロメートル\n",
      "\n",
      "したがって、面積では沖縄県が東京都よりも広いことになります。\n"
     ]
    }
   ],
   "source": [
    "tools = define_tools()\n",
    "\n",
    "# 言語モデルが直接回答できる質問\n",
    "question = \"東京都と沖縄県はどちらが広いですか？\"\n",
    "response_message = process_response(question, tools)\n",
    "print(response_message)"
   ]
  },
  {
   "cell_type": "code",
   "execution_count": 9,
   "id": "e6239e19",
   "metadata": {},
   "outputs": [
    {
     "name": "stdout",
     "output_type": "stream",
     "text": [
      "最近の東京駅周辺でのイベント情報は以下の通りです：\n",
      "\n",
      "1. **[東京駅周辺のイベント - ウォーカープラス](https://www.walkerplus.com/event_list/ar0313/sc309880d/)**\n",
      "   - 各種アート展示、期間限定のスペシャルイベントが開催中。詳細な日程や内容はリンク先で確認できます。\n",
      "\n",
      "2. **[東京駅周辺イベント情報 - Enjoy Tokyo](https://www.enjoytokyo.jp/event/list/area1306/)**\n",
      "   - 渋谷で行われるアート展「オリジナルレシピ」が開催予定で、東京駅近くのギャラリーでアート関連のイベントも充実しています。\n",
      "\n",
      "3. **[東京駅周辺のイベント - じゃらんニュートップ](https://www.jalan.net/kankou/spt_guide000000204974/event/)**\n",
      "   - 定期的に開催されるイベントとして、大森山王神社の催し物や、特設展示が行われている。\n",
      "\n",
      "4. **[東京駅イベント情報 - 東京駅一番街](https://www.tokyoeki-1bangai.co.jp/event/)**\n",
      "   - TOKYO駅の一番街では、様々なポップアップショップや特別展示が予定されており、訪問者の皆様に多様な体験を提供しています。\n",
      "\n",
      "5. **[東京のイベント情報 - 10 Times](https://10times.com/ja/tokyo-jp)**\n",
      "   - 様々なIT関連のイベントが今後東京で予定されています。運営や制作、マーケティングに関する最新情報を得ることができます。\n",
      "\n",
      "これらのイベント情報は日々更新されるため、詳細や最新情報はそれぞれのリンクから確認されることをお勧めします。\n"
     ]
    }
   ],
   "source": [
    "tools = define_tools()\n",
    "\n",
    "# ツール呼出が必要な質問\n",
    "question = \"東京駅のイベントについて、最近1ヶ月以内の検索結果を教えてください\"\n",
    "response_message = process_response(question, tools)\n",
    "print(response_message)"
   ]
  },
  {
   "cell_type": "code",
   "execution_count": null,
   "id": "6b2641d4",
   "metadata": {},
   "outputs": [
    {
     "data": {
      "text/plain": [
       "'質問:こんにちは！'"
      ]
     },
     "metadata": {},
     "output_type": "display_data"
    },
    {
     "name": "stdout",
     "output_type": "stream",
     "text": [
      "こんにちは！今日はどんなことをお手伝いできますか？\n"
     ]
    },
    {
     "data": {
      "text/plain": [
       "'質問:東北6県は？'"
      ]
     },
     "metadata": {},
     "output_type": "display_data"
    },
    {
     "name": "stdout",
     "output_type": "stream",
     "text": [
      "東北地方には以下の6つの県があります：\n",
      "\n",
      "1. 青森県（あおもりけん）\n",
      "2. 岩手県（いわてけん）\n",
      "3. 宮城県（みやぎけん）\n",
      "4. 秋田県（あきたけん）\n",
      "5. 山形県（やまがたけん）\n",
      "6. 福島県（ふくしまけん） \n",
      "\n",
      "これらの県は日本の北東部に位置しており、自然豊かな地域として知られています。\n"
     ]
    },
    {
     "data": {
      "text/plain": [
       "'質問:宮城県のお土産について検索した結果を教えて'"
      ]
     },
     "metadata": {},
     "output_type": "display_data"
    },
    {
     "name": "stdout",
     "output_type": "stream",
     "text": [
      "宮城県のお土産には多様な選択肢があります。以下は、特におすすめのお土産や人気の商品をいくつか紹介します。\n",
      "\n",
      "1. **牛たん** - 宮城県仙台市の名物で、やわらかくてジューシーな牛たんは定番のお土産です。いくつかの有名店があり、各店舗によって味や食感が異なります。\n",
      "   \n",
      "2. **ずんだ餅** - 枝豆を使った甘いペーストを乗せた餅で、すっきりとした味わいが特徴です。甘さ控えめで、和菓子好きにぴったりのお土産です。\n",
      "\n",
      "3. **萩の月** - 薄い皮にクリームが詰まった洋菓子で、宮城県の名物スイーツとして人気があります。特にお土産としては喜ばれます。\n",
      "\n",
      "4. **三陸の海産物** - 宮城県は新鮮な海の幸が豊富です。干物や缶詰、海鮮セットなどは特に人気があります。\n",
      "\n",
      "5. **栗まんじゅう** - 宮城の旬の栗を使ったまんじゅうで、栗の甘さが口の中で広がります。特に秋の季節は大変人気です。\n",
      "\n",
      "6. **金華サバ** - 高級な鯖で、脂がのっていてとても美味しい。ご飯のお供としても良いお土産です。\n",
      "\n",
      "そのほかにも、地元の特産品や工芸品などがあります。お土産を選ぶ際には、地元の商業施設や市場などで新鮮な情報を得ることをおすすめします。これらのお土産をお持ち帰りして、宮城の味を楽しんでみてください。\n",
      "\n",
      "---ご利用ありがとうございました！---\n"
     ]
    }
   ],
   "source": [
    "# チャットボットへの組み込み\n",
    "tools = define_tools()\n",
    "\n",
    "messages=[]\n",
    "\n",
    "system_prompt = \"あなたは東北弁で話すキャラクターです。語尾だけ東北弁にしてください。\"\n",
    "messages.append({\"role\": \"system\", \"content\": system_prompt})\n",
    "\n",
    "\n",
    "while(True):\n",
    "    # ユーザーからの質問を受付\n",
    "    question = input(\"メッセージを入力:\")\n",
    "    # 質問が入力されなければ終了\n",
    "    if question.strip()==\"\":\n",
    "        break\n",
    "    display(f\"質問:{question}\")\n",
    "\n",
    "    # メッセージにユーザーからの質問を追加\n",
    "    messages.append({\"role\": \"user\", \"content\": question.strip()})\n",
    "    # やりとりが8を超えたら古いメッセージから削除\n",
    "    # ただし、システムプロンプトは削除しない\n",
    "    if len(messages) > 8 + 1:\n",
    "        del_message = messages.pop(0 + 1)\n",
    "\n",
    "    # 言語モデルに質問\n",
    "    response_message = process_response(question, tools)\n",
    "\n",
    "    # メッセージに言語モデルからの回答を追加\n",
    "    print(response_message, flush=True)\n",
    "    messages.append({\"role\": \"assistant\", \"content\": response_message})\n",
    "\n",
    "print(\"\\n---ご利用ありがとうございました！---\")"
   ]
  }
 ],
 "metadata": {
  "kernelspec": {
   "display_name": ".venv",
   "language": "python",
   "name": "python3"
  },
  "language_info": {
   "codemirror_mode": {
    "name": "ipython",
    "version": 3
   },
   "file_extension": ".py",
   "mimetype": "text/x-python",
   "name": "python",
   "nbconvert_exporter": "python",
   "pygments_lexer": "ipython3",
   "version": "3.12.7"
  }
 },
 "nbformat": 4,
 "nbformat_minor": 5
}
