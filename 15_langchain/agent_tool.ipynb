{
 "cells": [
  {
   "cell_type": "code",
   "execution_count": 1,
   "id": "c40b979b",
   "metadata": {},
   "outputs": [],
   "source": [
    "# 必要なモジュールをインポート\n",
    "import os\n",
    "from dotenv import load_dotenv\n",
    "from langchain_openai import ChatOpenAI\n",
    "\n",
    "# 環境変数の読み込み\n",
    "load_dotenv(\"../.env\")\n",
    "os.environ['OPENAI_API_KEY'] = os.environ['API_KEY']\n",
    "\n",
    "# モデル名\n",
    "MODEL_NAME = \"gpt-4o-mini\""
   ]
  },
  {
   "cell_type": "code",
   "execution_count": 2,
   "id": "861dd6d2",
   "metadata": {},
   "outputs": [],
   "source": [
    "# 検索ツールの定義\n",
    "from langchain_community.tools.tavily_search import TavilySearchResults\n",
    "\n",
    "tool = TavilySearchResults(max_results=2)\n",
    "tools = [tool]"
   ]
  },
  {
   "cell_type": "code",
   "execution_count": 3,
   "id": "81d9f1bb",
   "metadata": {},
   "outputs": [
    {
     "data": {
      "text/plain": [
       "[{'url': 'https://weel.co.jp/media/tech/langgraph/',\n",
       "  'content': '参考：https://github.com/langchain-ai/langgraph/blob/main/docs/docs/how-tos/visualization.ipynb\\nLangGraphを使うことにより複数のエージェントを定義することができ、それぞれに特定の役割を持たせることができます。また、各ステップを「ノード」として定義して「状態の遷移」を制御可能。さらに、条件付き遷移や処理の再実行が簡単にできるなどのメリットがあります。\\nLangGraphはRAGのような使い方もできますが、LangGraphとRAGは異なっており、RAGはLLMに不足している知識を外部データベースから補完するのに対して、LangGraphはその処理の流れ(検索→生成→出力など)をノードとして組み、順序や条件を制御する役割を担っています。\\nLangGraphの構成要素\\nLangGraphにはノードや状態の遷移以外にも構成要素があります。※1\\n先ほどの画像と見比べながら解説をします。 [...] ホーム\\n生成AIテック\\nやってみた系\\nLangGraphとは？エージェントの使い方とワークフロー構築法をハンズオンで解説\\n\\nLangGraphとは？エージェントの使い方とワークフロー構築法をハンズオンで解説\\n2025 4/10\\nやってみた系\\n2025-04-10\\n\\n押さえておきたいポイント\\n\\nLangChainのコンポーネントを使って処理フローをグラフ構造で制御できる\\nノード間で状態（データ）を引き継ぎながら処理を進められる\\nローカル環境で実装可能\\n\\nLangChainに似たLangGraphをご存知ですか？LangGraphはReplitやUber、LinkedInなどで使用されており、LangChainでは複雑で対応が難しかった処理も制御可能です。\\n本記事では、LangGraphの概要やLangChainとの違い、実際の使い方について解説をします。最後までお読みいただければ、LangGraphの理解が深まり、実装できるようになります。\\n\\n目次\\n\\nLangGraphの概要\\nLangGraphの構成要素'},\n",
       " {'url': 'https://masa-engineer-lab.com/langgraph_introduction/184/',\n",
       "  'content': 'ノードは、ワークフロー内の処理単位です。 それぞれのノードには独自のアクション（関数）が定義され、入力されたステートをもとに処理を実行します。'}]"
      ]
     },
     "execution_count": 3,
     "metadata": {},
     "output_type": "execute_result"
    }
   ],
   "source": [
    "tool.invoke(\"Langgraphのノードとは？\")"
   ]
  },
  {
   "cell_type": "code",
   "execution_count": 4,
   "id": "7138890e",
   "metadata": {},
   "outputs": [
    {
     "data": {
      "text/plain": [
       "<langgraph.graph.state.StateGraph at 0x1218cf320>"
      ]
     },
     "execution_count": 4,
     "metadata": {},
     "output_type": "execute_result"
    }
   ],
   "source": [
    "from typing import Annotated\n",
    "from typing_extensions import TypedDict\n",
    "from langgraph.graph import StateGraph\n",
    "from langgraph.graph.message import add_messages\n",
    "\n",
    "# Stateクラスの定義\n",
    "class State(TypedDict):\n",
    "    messages: Annotated[list, add_messages]\n",
    "\n",
    "# グラフのインスタンスを作成\n",
    "graph_builder = StateGraph(State)\n",
    "\n",
    "# 言語モデルの定義\n",
    "llm = ChatOpenAI(model_name=MODEL_NAME)\n",
    "\n",
    "# 変更点：ツール定義の紐づけ\n",
    "llm_with_tools = llm.bind_tools(tools)\n",
    "\n",
    "# チャットボットノードの作成\n",
    "def chatbot(state: State):\n",
    "    return {\"messages\": [llm_with_tools.invoke(state[\"messages\"])]}\n",
    "\n",
    "# グラフにチャットボットノードを追加\n",
    "graph_builder.add_node(\"chatbot\", chatbot)"
   ]
  },
  {
   "cell_type": "code",
   "execution_count": 5,
   "id": "f11eb8f0",
   "metadata": {},
   "outputs": [],
   "source": [
    "from langgraph.prebuilt import ToolNode, tools_condition\n",
    "from langgraph.checkpoint.memory import MemorySaver\n",
    "\n",
    "# ツールノードの作成\n",
    "tool_node = ToolNode(tools)\n",
    "\n",
    "# グラフにツールノードを追加\n",
    "graph_builder.add_node(\"tools\", tool_node)\n",
    "\n",
    "# 条件付エッジの作成\n",
    "graph_builder.add_conditional_edges(\n",
    "    \"chatbot\",\n",
    "    tools_condition, # ツール呼出と判断したらツールノードを呼ぶ\n",
    ")\n",
    "\n",
    "# ツールが呼び出されるたびに、チャットボットに戻って次のステップを決定\n",
    "# ツールからチャットボットへの戻りエッジを作成\n",
    "graph_builder.add_edge(\"tools\", \"chatbot\")\n",
    "\n",
    "# 開始ノードの指定\n",
    "graph_builder.set_entry_point(\"chatbot\")\n",
    "\n",
    "# 記憶を持つ実行可能なステートグラフの作成\n",
    "memory = MemorySaver()\n",
    "graph = graph_builder.compile(checkpointer=memory)"
   ]
  },
  {
   "cell_type": "code",
   "execution_count": 6,
   "id": "8510ea44",
   "metadata": {},
   "outputs": [
    {
     "name": "stdout",
     "output_type": "stream",
     "text": [
      "こんにちは！\n",
      "こんにちは！今日はどのようなお手伝いができますか？\n",
      "1足す2は？\n",
      "1足す2は3です。何か他にお手伝いできることがありますか？\n",
      "1メートル以上の魚は？\n",
      "\n",
      "[{\"url\": \"http://cms.town.wakayama-hidaka.lg.jp/docs/2014090300054/\", \"content\": \"少々いかつい顔をしたこの“どでかい魚”、名前はクエ。 大きいものでは、体長1メートル以上にも達する大型魚です。関東以南の太平洋沿岸から東シナ海沿岸にかけての温かい海\"}, {\"url\": \"https://detail.chiebukuro.yahoo.co.jp/qa/question_detail/q14260099909\", \"content\": \"Yahoo!知恵袋\\n\\nJavaScriptが無効です。ブラウザの設定でJavaScriptを有効にしてください。JavaScriptを有効にするには\\n\\n回答受付が終了しました\\n\\nzka********さん\\n\\n2022/4/10 10:34\\n\\n44回答\\n\\n友人と琵琶湖でバス釣りをしていたら、余裕で1m以上の巨大な魚を見ました。かなり近くで見たのですが、ビワコオオナマズでも、コイでもありません。体の長さに対して太さはさほどありませんでした。\\n\\n友人と琵琶湖でバス釣りをしていたら、余裕で1m以上の巨大な魚を見ました。かなり近くで見たのですが、ビワコオオナマズでも、コイでもありません。体の長さに対して太さはさほどありませんでした。\\n肌色に近い体色をしていました。おそらくソウギョかなぁと思いましたが、琵琶湖でソウギョ見たことある方はいますか？\\r\\nまた、他の魚の可能性があるとしたら、何でしょうか？\\n\\n釣り・1,118閲覧\\n\\n1人が共感しています\\n\\n回答（4件）\\n\\nwedssport205さん\\n\\n2022/4/11 22:46 [...] 南湖東岸エリアか天神川付近ならアオウオですね。特に水面付近でヒレ立てて泳いでりゃ間違いなくアオウオ。\\n\\nこの回答はいかがでしたか？ リアクションしてみよう\\n\\nなるほど\\n\\n0\\n\\nそうだね\\n\\n0\\n\\nありがとう\\n\\n0\\n\\nzka********さん\\n\\n質問者2022/4/13 14:54\\n\\n夏にたまに見る、沖の方でジョーズのようにセビレを出してる巨大な魚はアオウオなんですね！！ただ、体色が肌色っぽかったんですよねぇ。\\n\\nID非表示さん\\n\\n2022/4/10 17:40\\n\\nアリゲーターガーの可能性もあるかと。\\n\\nなるほど\\n\\n0\\n\\nそうだね\\n\\n0\\n\\nありがとう\\n\\n0\\n\\nzka********さん\\n\\n質問者2022/4/10 18:07\\n\\nアリゲーターガーでは無かったです。\\n\\n白い暴動さん\\n\\n2022/4/10 14:48\\n\\nソウギョかレンギョじゃないの珍しいね、わたくしも先年珍しい光景を見ました湖北で琵琶マス見ましたよ！母なる湖、琵琶湖ですからねルアー釣り禁止などにならないようにしないとね！マナーは皆で守らないとね！\\n\\nなるほど\\n\\n0\\n\\nそうだね\\n\\n0\\n\\nありがとう\\n\\n0 [...] zka********さん\\n\\n質問者2022/4/10 18:09\\n\\nバス用のミノーで、ビワマスが釣れてしまった事がありました。\\n\\nfor********さん\\n\\n2022/4/10 11:35\\n\\n琵琶湖にはソウギョもアオウオもレンギョもいるよ。\\r\\n\\r\\n体の色からして、レンギョ（ハクレン）かも。\\n\\nなるほど\\n\\n0\\n\\nそうだね\\n\\n1\\n\\nありがとう\\n\\n0\\n\\nzka********さん\\n\\n質問者2022/4/10 18:09\\n\\nアオウオも、レンギョもいるんですね。知りませんでした。\\n\\nあわせて知りたい\\n\\n名張市毒ぶどう酒事件: 奥西勝が冤罪の可能性は何％だと思いますか？\\n\\nニュース、事件\\n\\n岐阜県の垂井町、関ヶ原周辺ブラックバスの釣れるポイントありましたら教えてください。\\n\\n釣り\\n\\nアオウオがいるポイントを見つけました。そいつを釣りたいのですが、そこのアオウオは陸から10〜20mくらいのとこに浮いています。サイズは1m前後 この場合どのような仕掛け、餌でやればいいですか？\\nタックルは雷魚タックルでやろうと思います。\\n\\n釣り\"}]\n",
      "1メートル以上の魚にはいくつかの種類があります。例えば：\n",
      "\n",
      "1. **クエ** - 大きいものでは体長が1メートル以上に達する大型魚です。関東以南の太平洋沿岸から東シナ海沿岸にかけての温かい海に生息しています。 ([詳細はこちら](http://cms.town.wakayama-hidaka.lg.jp/docs/2014090300054/))\n",
      "\n",
      "2. **ビワコオオナマズ** - 琵琶湖に生息しており、1メートル以上のサイズに成長することがあります。\n",
      "\n",
      "3. **アオウオ** - こちらも1メートル以上のサイズになることがあり、特に琵琶湖周辺で見られることがあります。\n",
      "\n",
      "他にも1メートル以上に成長する魚は多くありますが、これらが代表的な例です。興味がある魚についてもっと知りたい場合は教えてください！\n",
      "ありがとうございました!\n"
     ]
    }
   ],
   "source": [
    "# グラフの実行と結果の表示\n",
    "def stream_graph_updates(user_input: str):\n",
    "    events = graph.stream(\n",
    "        {\"messages\": [(\"user\", user_input)]},\n",
    "        {\"configurable\": {\"thread_id\": \"1\"}},\n",
    "        stream_mode=\"values\")\n",
    "    # 結果をストリーミングで得る\n",
    "    for event in events:\n",
    "        print(event[\"messages\"][-1].content, flush=True)\n",
    "\n",
    "# チャットボットのループ\n",
    "while True:\n",
    "    user_input = input(\"質問:\")\n",
    "    if user_input.strip()==\"\":\n",
    "        print(\"ありがとうございました!\")\n",
    "        break\n",
    "    stream_graph_updates(user_input)"
   ]
  }
 ],
 "metadata": {
  "kernelspec": {
   "display_name": ".venv",
   "language": "python",
   "name": "python3"
  },
  "language_info": {
   "codemirror_mode": {
    "name": "ipython",
    "version": 3
   },
   "file_extension": ".py",
   "mimetype": "text/x-python",
   "name": "python",
   "nbconvert_exporter": "python",
   "pygments_lexer": "ipython3",
   "version": "3.12.7"
  }
 },
 "nbformat": 4,
 "nbformat_minor": 5
}
