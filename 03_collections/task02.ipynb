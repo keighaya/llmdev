{
 "cells": [
  {
   "cell_type": "code",
   "execution_count": 1,
   "id": "9d148c0f",
   "metadata": {},
   "outputs": [
    {
     "name": "stdout",
     "output_type": "stream",
     "text": [
      "入力した英単語： ['bear', 'cat', 'dog', 'giraffe', 'horse', 'kangaroo']\n",
      "aが5個ありました\n",
      "bが1個ありました\n",
      "cが1個ありました\n",
      "dが1個ありました\n",
      "eが3個ありました\n",
      "fが2個ありました\n",
      "gが3個ありました\n",
      "hが1個ありました\n",
      "iが1個ありました\n",
      "kが1個ありました\n",
      "nが1個ありました\n",
      "oが4個ありました\n",
      "rが4個ありました\n",
      "sが1個ありました\n",
      "tが1個ありました\n"
     ]
    }
   ],
   "source": [
    "alphabets = {\n",
    "    'a': 0, 'b': 0, 'c': 0, 'd': 0, 'e': 0, 'f': 0,\n",
    "    'g': 0, 'h': 0, 'i': 0, 'j': 0, 'k': 0, 'l': 0,\n",
    "    'm': 0, 'n': 0, 'o': 0, 'p': 0, 'q': 0, 'r': 0,\n",
    "    's': 0, 't': 0, 'u': 0, 'v': 0, 'w': 0, 'x': 0,\n",
    "    'y': 0, 'z': 0\n",
    "}\n",
    "words = []\n",
    "\n",
    "while True:\n",
    "    word = input(\"英単語を入力してください：\")\n",
    "    if word == \"\":\n",
    "        break\n",
    "\n",
    "    words.append(word)\n",
    "\n",
    "    for char in word:\n",
    "        if char in alphabets:\n",
    "            alphabets[char] += 1\n",
    "\n",
    "words.sort()\n",
    "print(\"入力した英単語：\", words)\n",
    "\n",
    "for alphabet, count in alphabets.items():\n",
    "    if count > 0:\n",
    "        print(f\"{alphabet}が{count}個ありました\")\n"
   ]
  }
 ],
 "metadata": {
  "kernelspec": {
   "display_name": ".venv",
   "language": "python",
   "name": "python3"
  },
  "language_info": {
   "codemirror_mode": {
    "name": "ipython",
    "version": 3
   },
   "file_extension": ".py",
   "mimetype": "text/x-python",
   "name": "python",
   "nbconvert_exporter": "python",
   "pygments_lexer": "ipython3",
   "version": "3.12.7"
  }
 },
 "nbformat": 4,
 "nbformat_minor": 5
}
