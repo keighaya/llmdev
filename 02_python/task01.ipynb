{
 "cells": [
  {
   "cell_type": "code",
   "execution_count": null,
   "id": "f5389b51",
   "metadata": {},
   "outputs": [],
   "source": [
    "name = \"山田太郎\"\n",
    "age = 25\n",
    "\n",
    "print(f\"はじめまして、 {name} と申します。\")\n",
    "print(f\"年齢は {age} 歳です。来年は {age + 1} 歳になります。\")\n",
    "print(\"よろしくお願いします。\")"
   ]
  }
 ],
 "metadata": {
  "kernelspec": {
   "display_name": ".venv",
   "language": "python",
   "name": "python3"
  },
  "language_info": {
   "name": "python",
   "version": "3.12.7"
  }
 },
 "nbformat": 4,
 "nbformat_minor": 5
}
