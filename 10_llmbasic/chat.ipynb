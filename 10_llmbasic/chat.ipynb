{
 "cells": [
  {
   "cell_type": "code",
   "execution_count": null,
   "id": "b581844a",
   "metadata": {},
   "outputs": [
    {
     "name": "stdout",
     "output_type": "stream",
     "text": [
      "{'_request_id': 'req_ce35bd62b699c927e8db136b7f12d9e2',\n",
      " 'choices': [Choice(finish_reason='stop', index=0, logprobs=None, message=ChatCompletionMessage(content='言語モデルを使う上でのポイントはいくつかあります。以下にいくつかの重要な点を挙げます。\\n\\n1. **明確なプロンプトを作成する**: モデルに具体的な指示を与えると、より正確な回答が得られます。質問やリクエストを明確にすることで、所望の情報を得やすくなります。\\n\\n2. **コンテキストを提供する**: 必要な背景情報や文脈を与えることで、モデルがより適切な応答を生成できる場合があります。特に複雑な質問の場合は、関連する情報を提供すると良いでしょう。\\n\\n3. **フォローアップを利用する**: 初めの応答が期待通りでない場合、追加の質問をしてみることで、モデルがより具体的な情報を提供する助けになります。\\n\\n4. **出力の評価と編集**: モデルが生成したテキストをそのまま使用するのではなく、内容を評価し、必要に応じて編集することが重要です。特に情報の正確性や適切さを確認する必要があります。\\n\\n5. **限界を理解する**: 言語モデルはあくまで統計的に学習されたものであり、必ずしも正確な情報を提供するわけではありません。特に、最新の情報や専門的な知識については注意が必要です。\\n\\n6. **倫理的な配慮を持つ**: モデルを使用する際には、倫理的な観点からの配慮が重要です。誤解を招く情報や偏見を助長するような使い方は避けるべきです。\\n\\n7. **多様な用途を探る**: 言語モデルは質問応答だけでなく、創造的なライティング、データ分析、プログラミング支援、翻訳など、様々な用途に使えます。自分のニーズに合った使い方を試してみましょう。\\n\\nこれらのポイントを意識して利用することで、言語モデルを効果的に活用できるでしょう。', refusal=None, role='assistant', audio=None, function_call=None, tool_calls=None, annotations=[]))],\n",
      " 'created': 1747224096,\n",
      " 'id': 'chatcmpl-BX55kLVtjczdudC7Dqq6R9t52AGEE',\n",
      " 'model': 'gpt-4o-mini-2024-07-18',\n",
      " 'object': 'chat.completion',\n",
      " 'service_tier': 'default',\n",
      " 'system_fingerprint': 'fp_dbaca60df0',\n",
      " 'usage': CompletionUsage(completion_tokens=496, prompt_tokens=18, total_tokens=514, completion_tokens_details=CompletionTokensDetails(accepted_prediction_tokens=0, audio_tokens=0, reasoning_tokens=0, rejected_prediction_tokens=0), prompt_tokens_details=PromptTokensDetails(audio_tokens=0, cached_tokens=0))}\n"
     ]
    }
   ],
   "source": [
    "# 必要なモジュールをインポート\n",
    "import os\n",
    "from dotenv import load_dotenv\n",
    "from openai import OpenAI\n",
    "from pprint import pprint\n",
    "\n",
    "# 環境変数の取得\n",
    "load_dotenv(\"../.env\")\n",
    "\n",
    "# OpenAI APIクライアントを生成\n",
    "client = OpenAI(api_key=os.environ['API_KEY'])\n",
    "\n",
    "# モデル名\n",
    "MODEL_NAME = \"gpt-4o-mini\"\n",
    "\n",
    "# メッセージの設定\n",
    "message = \"言語モデルを使う上でのポイントは\"\n",
    "\n",
    "# APIへリクエスト\n",
    "response = client.chat.completions.create(\n",
    "    model=MODEL_NAME,\n",
    "    messages=[\n",
    "        {\"role\": \"user\", \"content\": message},\n",
    "    ]\n",
    ")\n",
    "\n",
    "# レスポンスの表示\n",
    "pprint(vars(response))"
   ]
  },
  {
   "cell_type": "code",
   "execution_count": 2,
   "id": "09980f62",
   "metadata": {},
   "outputs": [
    {
     "name": "stdout",
     "output_type": "stream",
     "text": [
      "言語モデルを使う上でのポイントはいくつかあります。以下にいくつかの重要な点を挙げます。\n",
      "\n",
      "1. **明確なプロンプトを作成する**: モデルに具体的な指示を与えると、より正確な回答が得られます。質問やリクエストを明確にすることで、所望の情報を得やすくなります。\n",
      "\n",
      "2. **コンテキストを提供する**: 必要な背景情報や文脈を与えることで、モデルがより適切な応答を生成できる場合があります。特に複雑な質問の場合は、関連する情報を提供すると良いでしょう。\n",
      "\n",
      "3. **フォローアップを利用する**: 初めの応答が期待通りでない場合、追加の質問をしてみることで、モデルがより具体的な情報を提供する助けになります。\n",
      "\n",
      "4. **出力の評価と編集**: モデルが生成したテキストをそのまま使用するのではなく、内容を評価し、必要に応じて編集することが重要です。特に情報の正確性や適切さを確認する必要があります。\n",
      "\n",
      "5. **限界を理解する**: 言語モデルはあくまで統計的に学習されたものであり、必ずしも正確な情報を提供するわけではありません。特に、最新の情報や専門的な知識については注意が必要です。\n",
      "\n",
      "6. **倫理的な配慮を持つ**: モデルを使用する際には、倫理的な観点からの配慮が重要です。誤解を招く情報や偏見を助長するような使い方は避けるべきです。\n",
      "\n",
      "7. **多様な用途を探る**: 言語モデルは質問応答だけでなく、創造的なライティング、データ分析、プログラミング支援、翻訳など、様々な用途に使えます。自分のニーズに合った使い方を試してみましょう。\n",
      "\n",
      "これらのポイントを意識して利用することで、言語モデルを効果的に活用できるでしょう。\n"
     ]
    }
   ],
   "source": [
    "# 言語モデルからの回答を表示\n",
    "print(response.choices[0].message.content.strip())"
   ]
  },
  {
   "cell_type": "code",
   "execution_count": 3,
   "id": "42857e0f",
   "metadata": {},
   "outputs": [
    {
     "name": "stdout",
     "output_type": "stream",
     "text": [
      "新製品の発売に向けた効果的なマーケティング戦略は、以下のステップに基づいています。\n",
      "\n",
      "### 1. ターゲット市場の特定\n",
      "- **ペルソナの作成**: 顧客の特性、ニーズ、購買行動を分析し、理想の顧客像を明確にします。\n",
      "- **市場調査**: 競合分析やトレンド分析を行い、ターゲット市場の動向を把握します。\n",
      "\n",
      "### 2. 製品の差別化\n",
      "- **USP（ユニーク・セリング・プロポジション）の明確化**: 新製品が他製品とどのように異なるのか、価値提案を明確にします。\n",
      "- **品質と価格のバランス**: 市場での競争力を持つ価格設定を行い、魅力的なオファーを考案します。\n",
      "\n",
      "### 3. プロモーション計画の策定\n",
      "- **プレ Launch（事前発表）**:\n",
      "  - **ティーザーキャンペーン**: SNSやメール、ブログなどを通じて、製品についての期待感を高めるコンテンツを発信します。\n",
      "  - **インフルエンサーやメディアとの連携**: 影響力のある人々を巻き込み、製品の認知度を上げます。\n",
      "\n",
      "- **Launch（発売）**:\n",
      "  - **リリースイベント**: 実際の製品を体験できるイベントを開催し、メディアや顧客に参加してもらいます。\n",
      "  - **PR戦略**: プレスリリースを配信し、ニュースメディアに取り上げられるよう働きかけます。\n",
      "\n",
      "- **Post Launch（発売後）**:\n",
      "  - **レビューやテスティモニアルの収集**: 顧客の声を活かして信頼性を高め、SNSでシェアします。\n",
      "  - **アフターセールスのフォロー**: 購入後の顧客フォローや感謝のメッセージを送信し、リピート購入を促進します。\n",
      "\n",
      "### 4. デジタルマーケティングの活用\n",
      "- **SEO戦略**: 製品に関連するキーワードで検索エンジンからのトラフィックを増加させます。\n",
      "- **SNSキャンペーン**: Facebook、Instagram、Twitterなどでのターゲット広告を駆使します。\n",
      "- **コンテンツマーケティング**: 製品に関連する情報やストーリーをブログや動画形式で展開し、顧客の関心を引きます。\n",
      "\n",
      "### 5. データ分析とフィードバック\n",
      "- **KPIの設定**: 売上、トラフィック、エンゲージメントなどの重要指標を設定して進捗を評価します。\n",
      "- **フィードバック収集**: 顧客からの直接のフィードバックを活用して、戦略の改善点を見つけます。\n",
      "\n",
      "これらのステップを組み合わせ、柔軟に対応することで新製品の成功に繋げることができます。シームレスな顧客体験を提供し、顧客との関係を深めることも忘れないようにしましょう。\n"
     ]
    }
   ],
   "source": [
    "# 役割や前提の設定\n",
    "role = \"あなたはマーケティング分野に精通したビジネスコンサルタントです。企業の成長をサポートするために、効果的なマーケティング戦略を提供します。\"\n",
    "\n",
    "# メッセージの設定\n",
    "message = \"新製品の発売に向けた効果的なマーケティング戦略を教えてください。\"\n",
    "\n",
    "# APIへリクエスト\n",
    "response = client.chat.completions.create(\n",
    "    model=MODEL_NAME,\n",
    "    messages=[\n",
    "        {\"role\": \"system\", \"content\": role},\n",
    "        {\"role\": \"user\", \"content\": message},\n",
    "    ],\n",
    ")\n",
    "\n",
    "# 言語モデルからの回答を表示\n",
    "print(response.choices[0].message.content.strip())"
   ]
  },
  {
   "cell_type": "code",
   "execution_count": 4,
   "id": "3a26d1f9",
   "metadata": {},
   "outputs": [
    {
     "name": "stdout",
     "output_type": "stream",
     "text": [
      "--------------------\n",
      "もちろんです！日本は多様な文化、歴史、自然、美食などが魅力的な国です。以下にいくつかのポイントを紹介します。\n",
      "\n",
      "### 1. 文化と伝統\n",
      "- **祭り**: 日本各地で行われる伝統的な祭り（例：祇園祭、ねぶた祭り）は、色鮮やかで活気に満ちています。\n",
      "- **茶道**:\n",
      "--------------------\n",
      "もちろんです！日本は多様な文化、歴史、自然の美しさが融合した魅力的な国です。以下にいくつかのポイントを紹介します。\n",
      "\n",
      "### 1. 文化と伝統\n",
      "- **祭り**: 日本各地で行われる伝統的な祭り（例：祇園祭、ねぶた祭り）は、地域の文化や歴史を体験できる素晴らしい機\n",
      "--------------------\n",
      "もちろんです！日本は多様な文化、歴史、自然の美しさが融合した魅力的な国です。以下にいくつかのポイントを紹介します。\n",
      "\n",
      "### 1. 文化と伝統\n",
      "- **祭り**: 日本各地で行われる伝統的な祭り（例：祇園祭、ねぶた祭り）は、地域の文化や歴史を体験できる素晴らしい機\n"
     ]
    }
   ],
   "source": [
    "# 出力の多様性\n",
    "message = \"日本の魅力を紹介して！\"\n",
    "\n",
    "# APIへリクエスト\n",
    "response = client.chat.completions.create(\n",
    "    model=MODEL_NAME,\n",
    "    messages=[\n",
    "        {\"role\": \"user\", \"content\": message},\n",
    "    ],\n",
    "    temperature=0.0,\n",
    "    n = 3, # 3回答を得る\n",
    "    max_completion_tokens = 100 # 出力トークン長を制限\n",
    ")\n",
    "\n",
    "# 結果を表示（複数回答を比較）\n",
    "for choice in response.choices:\n",
    "    print(\"-\" * 20)\n",
    "    print(choice.message.content.strip())"
   ]
  },
  {
   "cell_type": "code",
   "execution_count": 5,
   "id": "08b253ed",
   "metadata": {},
   "outputs": [
    {
     "name": "stdout",
     "output_type": "stream",
     "text": [
      "--------------------\n",
      "もちろんです！日本には多くの魅力があります。いくつかご紹介しますね。\n",
      "\n",
      "1. **美しい自然**: 日本は四季が明確で、それぞれの季節に異なる美しさを楽しむことができます。春には桜、夏には海や祭り、秋には紅葉、冬には雪景色と豊かな自然が広がります。\n",
      "\n",
      "2. **食文化**: 寿司、ラ\n",
      "--------------------\n",
      "もちろんです！日本の魅力は多岐にわたりますが、いくつかのポイントを挙げてみます。\n",
      "\n",
      "1. **美しい自然**: 日本には四季折々の美しい風景があります。春には桜が咲き乱れ、夏には緑の山々や海が広がります。秋には紅葉が見事で、冬には雪景色が楽しめます。また、富士山\n",
      "--------------------\n",
      "もちろんです！日本は独自の文化や自然、美しい景観など多くの魅力があります。いくつかご紹介しますね。\n",
      "\n",
      "1. **美しい風景**: 日本には四季があり、それぞれに美しい風景が楽しめます。春には桜、夏には緑豊かな山々、秋には紅葉、冬には雪景色と、どの季節も特別な雰囲気を持\n"
     ]
    }
   ],
   "source": [
    "# 出力の多様性\n",
    "message = \"日本の魅力を紹介して！\"\n",
    "\n",
    "# APIへリクエスト\n",
    "response = client.chat.completions.create(\n",
    "    model=MODEL_NAME,\n",
    "    messages=[\n",
    "        {\"role\": \"user\", \"content\": message},\n",
    "    ],\n",
    "    presence_penalty=2.0,\n",
    "    n = 3, # 3回答を得る\n",
    "    max_completion_tokens = 100 # 出力トークン長を制限\n",
    ")\n",
    "\n",
    "# 結果を表示（複数回答を比較）\n",
    "for choice in response.choices:\n",
    "    print(\"-\" * 20)\n",
    "    print(choice.message.content.strip())"
   ]
  },
  {
   "cell_type": "code",
   "execution_count": 6,
   "id": "0540833e",
   "metadata": {},
   "outputs": [
    {
     "name": "stdout",
     "output_type": "stream",
     "text": [
      "tokens_count=2\n",
      "tokens=[95839, 3393]\n"
     ]
    }
   ],
   "source": [
    "import tiktoken\n",
    "from tiktoken.core import Encoding\n",
    "\n",
    "# OpenAI APIの特定のモデルに対応するトークナイザーを取得\n",
    "encoding: Encoding = tiktoken.encoding_for_model(MODEL_NAME) # o200k_base\n",
    "\n",
    "# テキストをトークンIDのリストに変換\n",
    "tokens = encoding.encode(\"こんにちは！\")\n",
    "tokens_count = len(tokens)\n",
    "\n",
    "# トークンの長さとトークンIDを表示\n",
    "print(f\"{tokens_count=}\")\n",
    "print(f\"{tokens=}\")"
   ]
  },
  {
   "cell_type": "code",
   "execution_count": 7,
   "id": "c28ab62e",
   "metadata": {},
   "outputs": [
    {
     "name": "stdout",
     "output_type": "stream",
     "text": [
      "--------------------\n",
      "B:こんにちは！Aさん、お元気ですか？\n",
      "--------------------\n",
      "B:こんにちは！Aさん、こんにちは！最近どうですか？\n",
      "--------------------\n",
      "B:こんにちは、Aさん！今日はどうですか？\n"
     ]
    }
   ],
   "source": [
    "# トークンの選択度合い\n",
    "message = \"\"\"\n",
    "AさんとBさんで会話してください。\n",
    "A:あ、Bさんだ。\n",
    "B:\n",
    "\"\"\"\n",
    "\n",
    "# APIへリクエスト\n",
    "response = client.chat.completions.create(\n",
    "    model=MODEL_NAME,\n",
    "    messages=[\n",
    "        {\"role\": \"user\", \"content\": message},\n",
    "    ],\n",
    "    max_tokens=100,\n",
    "    n=3,\n",
    "    logit_bias = {95839:8, 3393:8}\n",
    ")\n",
    "\n",
    "# 結果を表示\n",
    "for choice in response.choices:\n",
    "    print(\"-\" * 20)\n",
    "    print(choice.message.content.strip())"
   ]
  },
  {
   "cell_type": "code",
   "execution_count": 8,
   "id": "fd032eab",
   "metadata": {},
   "outputs": [
    {
     "name": "stdout",
     "output_type": "stream",
     "text": [
      "言語モデルを使う上でのポイントはいくつかあります。以下に主なポイントを挙げます。\n",
      "\n",
      "1. **目的の明確化**:\n",
      "   - 何を達成したいのか、具体的な目的を明確にしましょう。例えば、文章の要約、質問応答、翻訳など、使用目的に応じた利用方法を考えます。\n",
      "\n",
      "2. **入力の工夫**:\n",
      "   - 効果的なプロンプト（入力文）を作成することが重要です。具体的で明瞭な指示を与えることで、より望ましい出力を得ることができます。\n",
      "\n",
      "3. **出力の評価**:\n",
      "   - モデルから得られた結果を慎重に評価し、必要に応じて修正や再入力を行います。出力が期待通りでない場合はプロンプトを見直すことが有効です。\n",
      "\n",
      "4. **限界を理解する**:\n",
      "   - 言語モデルは自然言語処理に強力ですが、常に正確な情報を提供するわけではありません。情報の正確性を確認するために他のソースと照らし合わせることが重要です。\n",
      "\n",
      "5. **倫理とバイアスの考慮**:\n",
      "   - 言語モデルは訓練データに基づいて出力を生成するため、バイアスや不適切な内容が含まれる可能性があります。出力内容を慎重に評価し、社会的責任を持って利用することが重要です。\n",
      "\n",
      "6. **ユーザーのフィードバック**:\n",
      "   - 利用者からのフィードバックを受け取り、モデルの使用方法やプロンプトを改善する材料として活用します。\n",
      "\n",
      "7. **継続的な学習**:\n",
      "   - 言語モデル技術は進化していますので、新しい研究や開発の情報を常にチェックし、適切な技術や手法を取り入れることが大切です。\n",
      "\n",
      "これらのポイントを押さえることで、言語モデルをより効果的に活用できるでしょう。"
     ]
    }
   ],
   "source": [
    "# メッセージの設定\n",
    "message = \"言語モデルを使う上でのポイントは\"\n",
    "\n",
    "# APIへリクエスト\n",
    "stream = client.chat.completions.create(\n",
    "    model=MODEL_NAME,\n",
    "    messages=[\n",
    "        {\"role\": \"user\", \"content\": message},\n",
    "    ],\n",
    "    stream=True,\n",
    ")\n",
    "\n",
    "for chunk in stream:\n",
    "    if chunk.choices:\n",
    "        if chunk.choices[0].delta.content is not None:\n",
    "            print(chunk.choices[0].delta.content, end=\"\")"
   ]
  }
 ],
 "metadata": {
  "kernelspec": {
   "display_name": ".venv",
   "language": "python",
   "name": "python3"
  },
  "language_info": {
   "codemirror_mode": {
    "name": "ipython",
    "version": 3
   },
   "file_extension": ".py",
   "mimetype": "text/x-python",
   "name": "python",
   "nbconvert_exporter": "python",
   "pygments_lexer": "ipython3",
   "version": "3.12.7"
  }
 },
 "nbformat": 4,
 "nbformat_minor": 5
}
