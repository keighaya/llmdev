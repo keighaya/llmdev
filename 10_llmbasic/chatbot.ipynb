{
 "cells": [
  {
   "cell_type": "code",
   "execution_count": 1,
   "id": "532c4a95",
   "metadata": {},
   "outputs": [],
   "source": [
    "# 必要なモジュールをインポート\n",
    "import os\n",
    "from dotenv import load_dotenv\n",
    "from openai import OpenAI\n",
    "from pprint import pprint\n",
    "\n",
    "# 環境変数の取得\n",
    "load_dotenv(\"../.env\")\n",
    "\n",
    "# OpenAI APIクライアントを生成\n",
    "client = OpenAI(api_key=os.environ['API_KEY'])\n",
    "\n",
    "# モデル名\n",
    "MODEL_NAME = \"gpt-4o-mini\""
   ]
  },
  {
   "cell_type": "code",
   "execution_count": 2,
   "id": "f8f7d910",
   "metadata": {},
   "outputs": [
    {
     "data": {
      "text/plain": [
       "'質問:こんにちは！'"
      ]
     },
     "metadata": {},
     "output_type": "display_data"
    },
    {
     "name": "stdout",
     "output_type": "stream",
     "text": [
      "こんにちは！何かお手伝いできることはありますか？"
     ]
    },
    {
     "data": {
      "text/plain": [
       "'質問:初心者にオススメのプログラミング言語を3つ教えて'"
      ]
     },
     "metadata": {},
     "output_type": "display_data"
    },
    {
     "name": "stdout",
     "output_type": "stream",
     "text": [
      "初心者にオススメのプログラミング言語を3つ紹介します。\n",
      "\n",
      "1. **Python**:\n",
      "   - シンプルで読みやすい文法が特徴です。\n",
      "   - 幅広い分野（データ科学、機械学習、ウェブ開発など）で利用されているため、学ぶことで多くのアプリケーションに応用できます。\n",
      "   - 豊富なライブラリとコミュニティが存在し、学習リソースも充実しています。\n",
      "\n",
      "2. **JavaScript**:\n",
      "   - ウェブ開発に必須の言語で、ブラウザ上で動作します。\n",
      "   - HTMLやCSSと組み合わせて使うことで、インタラクティブなウェブサイトを作成できます。\n",
      "   - 初心者向けの教材やプロジェクトも多く、実践的なスキルを身につけやすいです。\n",
      "\n",
      "3. **Ruby**:\n",
      "   - 読みやすく、簡潔な文法が魅力の言語です。\n",
      "   - 特にウェブアプリケーション開発には「Ruby on Rails」というフレームワークがあり、非常に人気があります。\n",
      "   - コミュニティが活発で、サポートも受けやすい環境が整っています。\n",
      "\n",
      "これらの言語は初心者でも学びやすく、実践的なスキルを身につけやすいものばかりです。興味のある分野に合った言語を選んでみてください！"
     ]
    },
    {
     "data": {
      "text/plain": [
       "'質問:1つ目のプログラミング言語の名前は？'"
      ]
     },
     "metadata": {},
     "output_type": "display_data"
    },
    {
     "name": "stdout",
     "output_type": "stream",
     "text": [
      "1つ目のプログラミング言語は「Python」です。\n",
      "---ご利用ありがとうございました！---\n"
     ]
    }
   ],
   "source": [
    "# メッセージを格納するリスト\n",
    "messages=[]\n",
    "\n",
    "while(True):\n",
    "    # ユーザーからの質問を受付\n",
    "    message = input(\"メッセージを入力:\")\n",
    "    # 質問が入力されなければ終了\n",
    "    if message.strip()==\"\":\n",
    "        break\n",
    "    display(f\"質問:{message}\")\n",
    "\n",
    "    # メッセージにユーザーからの質問を追加\n",
    "    messages.append({\"role\": \"user\", \"content\": message.strip()})\n",
    "    # やりとりが8を超えたら古いメッセージから削除\n",
    "    if len(messages) > 8:\n",
    "        del_message = messages.pop(0)\n",
    "\n",
    "    # APIへリクエスト\n",
    "    stream = client.chat.completions.create(\n",
    "        model=MODEL_NAME,\n",
    "        messages=messages,\n",
    "        stream=True,\n",
    "    )\n",
    "\n",
    "    # 言語モデルからの回答を表示\n",
    "    response_message = \"\"\n",
    "    for chunk in stream:\n",
    "        if chunk.choices:\n",
    "            next = chunk.choices[0].delta.content\n",
    "            if next is not None:\n",
    "                response_message += next\n",
    "                print(next, end='', flush=True)\n",
    "\n",
    "    # メッセージに言語モデルからの回答を追加\n",
    "    messages.append({\"role\": \"assistant\", \"content\": response_message})\n",
    "\n",
    "print(\"\\n---ご利用ありがとうございました！---\")"
   ]
  }
 ],
 "metadata": {
  "kernelspec": {
   "display_name": ".venv",
   "language": "python",
   "name": "python3"
  },
  "language_info": {
   "codemirror_mode": {
    "name": "ipython",
    "version": 3
   },
   "file_extension": ".py",
   "mimetype": "text/x-python",
   "name": "python",
   "nbconvert_exporter": "python",
   "pygments_lexer": "ipython3",
   "version": "3.12.7"
  }
 },
 "nbformat": 4,
 "nbformat_minor": 5
}
